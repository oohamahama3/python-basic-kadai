{
  "nbformat": 4,
  "nbformat_minor": 0,
  "metadata": {
    "colab": {
      "provenance": []
    },
    "kernelspec": {
      "name": "python3",
      "display_name": "Python 3"
    },
    "language_info": {
      "name": "python"
    }
  },
  "cells": [
    {
      "cell_type": "code",
      "execution_count": 25,
      "metadata": {
        "colab": {
          "base_uri": "https://localhost:8080/"
        },
        "id": "b-zsFRVce_oT",
        "outputId": "ef3942d3-362b-4b9d-b4d9-96b179fe9a8e"
      },
      "outputs": [
        {
          "output_type": "stream",
          "name": "stdout",
          "text": [
            "消費税は　100.0円\n"
          ]
        }
      ],
      "source": [
        "#消費税を加えた計算結果を返す関数を記述,「結果を返す関数」なので戻り値を使用する\n",
        "def shohizei(price: int,zei: int) -> int:\n",
        "  return price*zei/100\n",
        "# 関数を呼び出し、引数として金額と税を渡す\n",
        "a = shohizei(1000, 10)\n",
        "print(f\"消費税は　{a}円\")"
      ]
    },
    {
      "cell_type": "code",
      "source": [],
      "metadata": {
        "id": "3_n5LmL_A2Ab"
      },
      "execution_count": null,
      "outputs": []
    },
    {
      "cell_type": "code",
      "source": [],
      "metadata": {
        "id": "3bdFR3oWfbMk"
      },
      "execution_count": null,
      "outputs": []
    },
    {
      "cell_type": "markdown",
      "source": [],
      "metadata": {
        "id": "oZmfeQSDf79F"
      }
    }
  ]
}