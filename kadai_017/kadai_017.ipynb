{
  "nbformat": 4,
  "nbformat_minor": 0,
  "metadata": {
    "colab": {
      "provenance": []
    },
    "kernelspec": {
      "name": "python3",
      "display_name": "Python 3"
    },
    "language_info": {
      "name": "python"
    }
  },
  "cells": [
    {
      "cell_type": "code",
      "execution_count": 7,
      "metadata": {
        "colab": {
          "base_uri": "https://localhost:8080/"
        },
        "id": "b-zsFRVce_oT",
        "outputId": "a43f9a22-01bf-4414-d447-cf2f540d9112"
      },
      "outputs": [
        {
          "output_type": "stream",
          "name": "stdout",
          "text": [
            "大人である\n",
            "大人である\n",
            "大人でない\n"
          ]
        }
      ],
      "source": [
        "#Humanクラスのインスタンスは、変数に代入してプログラム内で使用\n",
        "#名前(name)と年齢(age)の属性を持つHumanクラス\n",
        "class Human:\n",
        "    # コンストラクタを定義する\n",
        "    def __init__(self, name, age):\n",
        "        self.name = name\n",
        "        self.age = age\n",
        "    #ageが20以上の場合に大人であること、そうでない場合に大人でないこと\n",
        "    #標準出力(print)するcheck_adultメソッド\n",
        "    def check_adult(self):\n",
        "      if self.age >= 20:\n",
        "        print(\"大人である\")\n",
        "      else:\n",
        "        print(\"大人でない\")\n",
        "\n",
        "#Humanクラスのインスタンスを複数生成\n",
        "hmn_t = Human(\"侍太郎\", 36)\n",
        "hmn_j = Human(\"侍次郎\", 26)\n",
        "hmn_s = Human(\"侍三郎\", 16)\n",
        "\n",
        "#リストに追加\n",
        "hmns = [hmn_t, hmn_j,hmn_s]\n",
        "\n",
        "#リストの要素数分だけcheck_adultメソッドを呼び出し\n",
        "for hmn in hmns:\n",
        "    hmn.check_adult()"
      ]
    },
    {
      "cell_type": "code",
      "source": [],
      "metadata": {
        "id": "3_n5LmL_A2Ab"
      },
      "execution_count": null,
      "outputs": []
    },
    {
      "cell_type": "code",
      "source": [],
      "metadata": {
        "id": "3bdFR3oWfbMk"
      },
      "execution_count": null,
      "outputs": []
    },
    {
      "cell_type": "markdown",
      "source": [],
      "metadata": {
        "id": "oZmfeQSDf79F"
      }
    }
  ]
}